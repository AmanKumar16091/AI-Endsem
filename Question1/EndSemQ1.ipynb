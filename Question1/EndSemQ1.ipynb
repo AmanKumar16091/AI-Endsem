{
  "nbformat": 4,
  "nbformat_minor": 0,
  "metadata": {
    "colab": {
      "provenance": []
    },
    "kernelspec": {
      "name": "python3",
      "display_name": "Python 3"
    },
    "language_info": {
      "name": "python"
    }
  },
  "cells": [
    {
      "cell_type": "code",
      "execution_count": 1,
      "metadata": {
        "id": "FHZNUQXM4DBj"
      },
      "outputs": [],
      "source": [
        "import numpy as np\n",
        "\n",
        "# Define the game show MDP\n",
        "class GameShowMDP:\n",
        "    def __init__(self, rewards, probabilities):\n",
        "        self.rewards = rewards\n",
        "        self.probabilities = probabilities\n",
        "        self.num_questions = len(rewards)\n",
        "        self.num_states = self.num_questions + 1\n",
        "        self.start_state = 0\n",
        "        self.end_state = self.num_states - 1\n",
        "\n",
        "    def get_transition_probabilities(self, state, action):\n",
        "        if state == self.end_state:\n",
        "            return [(self.end_state, 1.0)]\n",
        "        elif action == 1:\n",
        "            return [(state + 1, self.probabilities[state]), (self.end_state, 1 - self.probabilities[state])]\n",
        "        else:\n",
        "            return [(self.end_state, 1.0)]\n",
        "\n",
        "    def get_rewards(self, state, action, next_state):\n",
        "        if next_state == self.end_state:\n",
        "            return 0\n",
        "        elif action == 1:\n",
        "            return self.rewards[state]\n",
        "        else:\n",
        "            return 0\n",
        "def value_iteration(mdp, gamma=1.0, theta=1e-6):\n",
        "    # Initialize the value function to zero\n",
        "    V = np.zeros(mdp.num_states)\n",
        "\n",
        "    while True:\n",
        "        # Initialize the change in V to zero\n",
        "        delta = 0\n",
        "\n",
        "        # Update the value function for each state\n",
        "        for s in range(mdp.num_states):\n",
        "            v = V[s]\n",
        "            V[s] = max([sum([p * (mdp.get_rewards(s, a, next_s) + gamma * V[next_s])\n",
        "                             for (next_s, p) in mdp.get_transition_probabilities(s, a)])\n",
        "                        for a in range(2)])\n",
        "            delta = max(delta, abs(v - V[s]))\n",
        "\n",
        "        # Check for convergence\n",
        "        if delta < theta:\n",
        "            break\n",
        "\n",
        "    return V"
      ]
    }
  ]
}